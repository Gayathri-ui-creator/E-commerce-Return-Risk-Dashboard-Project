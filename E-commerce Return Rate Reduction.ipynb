{
 "cells": [
  {
   "cell_type": "markdown",
   "id": "7a3a1b0b-6e05-4b54-b8a4-1d61b7c13abf",
   "metadata": {},
   "source": [
    "# E-commerce Return Rate Reduction Analysis - Clean, EDA & Predictive Modeling"
   ]
  },
  {
   "cell_type": "markdown",
   "id": "af3d0fb6-b3cc-4080-be86-8cd8c7ec4216",
   "metadata": {},
   "source": [
    "#### Import Required Libraries"
   ]
  },
  {
   "cell_type": "code",
   "execution_count": 1,
   "id": "0fbc3af9-3d52-4573-9d16-47c024d3fde5",
   "metadata": {},
   "outputs": [],
   "source": [
    "import pandas as pd\n",
    "import numpy as np\n",
    "import matplotlib.pyplot as plt\n",
    "import seaborn as sns\n",
    "from sklearn.model_selection import train_test_split\n",
    "from sklearn.linear_model import LogisticRegression\n",
    "from sklearn.metrics import classification_report, confusion_matrix\n",
    "from sklearn.preprocessing import LabelEncoder"
   ]
  },
  {
   "cell_type": "markdown",
   "id": "d621a145-9eed-4dc9-829b-749f3cc5ab80",
   "metadata": {},
   "source": [
    "#### Step 1: Data Extraction"
   ]
  },
  {
   "cell_type": "code",
   "execution_count": 2,
   "id": "036e6af2-59f3-4f39-bc13-a8daa925c899",
   "metadata": {},
   "outputs": [],
   "source": [
    "# Load Data"
   ]
  },
  {
   "cell_type": "code",
   "execution_count": 6,
   "id": "5d324003-c262-4862-9eb0-6bcaccf4a461",
   "metadata": {},
   "outputs": [],
   "source": [
    "df = pd.read_csv(\"Customer360Insights.csv\")"
   ]
  },
  {
   "cell_type": "code",
   "execution_count": 7,
   "id": "14282fe3-52c8-4e49-b5f0-a88ea5dab090",
   "metadata": {},
   "outputs": [],
   "source": [
    "# Display basic info to assess columns and data quality"
   ]
  },
  {
   "cell_type": "code",
   "execution_count": 8,
   "id": "c7b97090-5ddc-4ef9-9994-5076cee2bc4f",
   "metadata": {},
   "outputs": [
    {
     "name": "stdout",
     "output_type": "stream",
     "text": [
      "<class 'pandas.core.frame.DataFrame'>\n",
      "RangeIndex: 2000 entries, 0 to 1999\n",
      "Data columns (total 23 columns):\n",
      " #   Column                 Non-Null Count  Dtype \n",
      "---  ------                 --------------  ----- \n",
      " 0   SessionStart           2000 non-null   object\n",
      " 1   CustomerID             2000 non-null   int64 \n",
      " 2   FullName               2000 non-null   object\n",
      " 3   Gender                 2000 non-null   object\n",
      " 4   Age                    2000 non-null   int64 \n",
      " 5   CreditScore            2000 non-null   int64 \n",
      " 6   MonthlyIncome          2000 non-null   int64 \n",
      " 7   Country                2000 non-null   object\n",
      " 8   State                  2000 non-null   object\n",
      " 9   City                   2000 non-null   object\n",
      " 10  Category               2000 non-null   object\n",
      " 11  Product                2000 non-null   object\n",
      " 12  Cost                   2000 non-null   int64 \n",
      " 13  Price                  2000 non-null   int64 \n",
      " 14  Quantity               2000 non-null   int64 \n",
      " 15  CampaignSchema         2000 non-null   object\n",
      " 16  CartAdditionTime       2000 non-null   object\n",
      " 17  OrderConfirmation      2000 non-null   bool  \n",
      " 18  OrderConfirmationTime  1700 non-null   object\n",
      " 19  PaymentMethod          1700 non-null   object\n",
      " 20  SessionEnd             2000 non-null   object\n",
      " 21  OrderReturn            1700 non-null   object\n",
      " 22  ReturnReason           236 non-null    object\n",
      "dtypes: bool(1), int64(7), object(15)\n",
      "memory usage: 345.8+ KB\n"
     ]
    },
    {
     "data": {
      "text/plain": [
       "(None,\n",
       "           SessionStart  CustomerID           FullName  Gender  Age  \\\n",
       " 0  2019-01-01 02:42:00        1001  Brittany Franklin    Male   57   \n",
       " 1  2019-01-02 20:35:00        1002      Scott Stewart  Female   69   \n",
       " 2  2019-01-04 03:11:00        1003   Elizabeth Fowler  Female   21   \n",
       " 3  2019-01-05 09:01:00        1004        Julian Wall  Female   67   \n",
       " 4  2019-01-05 13:35:00        1005      James Simmons    Male   57   \n",
       " \n",
       "    CreditScore  MonthlyIncome Country      State        City  ... Price  \\\n",
       " 0          780           7591   China  Guangdong    Dongguan  ...    50   \n",
       " 1          746           3912   China   Shandong      Yantai  ...    80   \n",
       " 2          772           7460      UK    England  Birmingham  ...    20   \n",
       " 3          631           4765      UK    England  Birmingham  ...    20   \n",
       " 4          630           3268   China   Shandong      Yantai  ...   100   \n",
       " \n",
       "   Quantity    CampaignSchema      CartAdditionTime  OrderConfirmation  \\\n",
       " 0        4      Instagram-ads  2019-01-01 02:49:00               True   \n",
       " 1        6         Google-ads  2019-01-02 20:50:00               True   \n",
       " 2        2       Facebook-ads  2019-01-04 03:30:00               True   \n",
       " 3        2        Twitter-ads  2019-01-05 09:17:00               True   \n",
       " 4        6  Billboard-QR code  2019-01-05 13:40:00               True   \n",
       " \n",
       "   OrderConfirmationTime     PaymentMethod           SessionEnd OrderReturn  \\\n",
       " 0   2019-01-01 03:02:00  Cash On Delivery  2019-01-01 02:53:00       False   \n",
       " 1   2019-01-02 20:58:00        Debit Card  2019-01-02 20:54:00       False   \n",
       " 2   2019-01-04 03:40:00  Cash On Delivery  2019-01-04 03:35:00       False   \n",
       " 3   2019-01-05 09:26:00  Cash On Delivery  2019-01-05 09:20:00       False   \n",
       " 4   2019-01-05 13:52:00        Debit Card  2019-01-05 13:42:00       False   \n",
       " \n",
       "   ReturnReason  \n",
       " 0          NaN  \n",
       " 1          NaN  \n",
       " 2          NaN  \n",
       " 3          NaN  \n",
       " 4          NaN  \n",
       " \n",
       " [5 rows x 23 columns])"
      ]
     },
     "execution_count": 8,
     "metadata": {},
     "output_type": "execute_result"
    }
   ],
   "source": [
    "df.info(), df.head()"
   ]
  },
  {
   "cell_type": "code",
   "execution_count": 9,
   "id": "650cf82f-14d8-40c7-aa47-c65e720e8c7f",
   "metadata": {},
   "outputs": [],
   "source": [
    "# Clean column names to avoid KeyError due to spaces or special characters"
   ]
  },
  {
   "cell_type": "code",
   "execution_count": 10,
   "id": "d8b56ac2-fb1d-426d-8135-f3063d17cbb6",
   "metadata": {},
   "outputs": [],
   "source": [
    "df.columns = df.columns.str.strip().str.replace(' ', '').str.replace('(', '').str.replace(')', '')"
   ]
  },
  {
   "cell_type": "code",
   "execution_count": 11,
   "id": "584e9d16-0949-4209-ba71-e42cb825559c",
   "metadata": {},
   "outputs": [],
   "source": [
    "# Print columns"
   ]
  },
  {
   "cell_type": "code",
   "execution_count": 12,
   "id": "d6df8851-5a31-4e65-9b30-5364469d5e21",
   "metadata": {},
   "outputs": [
    {
     "name": "stdout",
     "output_type": "stream",
     "text": [
      "['SessionStart', 'CustomerID', 'FullName', 'Gender', 'Age', 'CreditScore', 'MonthlyIncome', 'Country', 'State', 'City', 'Category', 'Product', 'Cost', 'Price', 'Quantity', 'CampaignSchema', 'CartAdditionTime', 'OrderConfirmation', 'OrderConfirmationTime', 'PaymentMethod', 'SessionEnd', 'OrderReturn', 'ReturnReason']\n"
     ]
    }
   ],
   "source": [
    "print(df.columns.tolist())"
   ]
  },
  {
   "cell_type": "code",
   "execution_count": 13,
   "id": "fab91695-55ec-45ee-aab4-4a8fb4a6d6f0",
   "metadata": {},
   "outputs": [
    {
     "data": {
      "text/plain": [
       "array(['Instagram-ads', 'Google-ads', 'Facebook-ads', 'Twitter-ads',\n",
       "       'Billboard-QR code', 'E-mails'], dtype=object)"
      ]
     },
     "execution_count": 13,
     "metadata": {},
     "output_type": "execute_result"
    }
   ],
   "source": [
    "df['CampaignSchema'].unique()"
   ]
  },
  {
   "cell_type": "markdown",
   "id": "2416b8cb-0808-475e-bb82-660a79335e43",
   "metadata": {},
   "source": [
    "#### Step 2: Data Filtering"
   ]
  },
  {
   "cell_type": "code",
   "execution_count": 14,
   "id": "9d089092-7eb0-4fc0-ba0e-676726d55dbe",
   "metadata": {},
   "outputs": [],
   "source": [
    "# Remove Duplicates"
   ]
  },
  {
   "cell_type": "code",
   "execution_count": 15,
   "id": "88f52ee3-82a9-4e99-bd0a-21457c603374",
   "metadata": {},
   "outputs": [],
   "source": [
    "df = df.drop_duplicates()"
   ]
  },
  {
   "cell_type": "code",
   "execution_count": 16,
   "id": "b1283e6e-5c3a-4c77-a29b-f12f2c41b5bc",
   "metadata": {},
   "outputs": [],
   "source": [
    "# Handle missing values\n",
    "# Fill missing 'OrderReturn' with 'False' for unconfirmed orders"
   ]
  },
  {
   "cell_type": "code",
   "execution_count": 17,
   "id": "11384902-2685-4b35-9e70-5996cd6bd085",
   "metadata": {},
   "outputs": [],
   "source": [
    "df['OrderReturn'] = df['OrderReturn'].fillna('False')"
   ]
  },
  {
   "cell_type": "code",
   "execution_count": 18,
   "id": "7583e99b-d192-4eae-b14d-5e44e35fa0e4",
   "metadata": {},
   "outputs": [],
   "source": [
    "# Drop rows where PaymentMethod or OrderConfirmationTime is missing (unconfirmed orders)"
   ]
  },
  {
   "cell_type": "code",
   "execution_count": 19,
   "id": "e38da349-e8b6-46af-ad32-57ee3c063e2c",
   "metadata": {},
   "outputs": [],
   "source": [
    "df = df.dropna(subset=['OrderConfirmationTime', 'PaymentMethod'])"
   ]
  },
  {
   "cell_type": "code",
   "execution_count": 20,
   "id": "f5291988-1f52-40a9-94a7-2403a517196b",
   "metadata": {},
   "outputs": [],
   "source": [
    "# Filter only rows with valid Category and Supplier(Product)"
   ]
  },
  {
   "cell_type": "code",
   "execution_count": 21,
   "id": "a29c0e04-ed55-4421-8924-759dcafb5242",
   "metadata": {},
   "outputs": [],
   "source": [
    "df = df[df['Category'].notnull()]\n",
    "df = df[df['Product'].notnull()]\n",
    "df = df[df['Country'].notnull()]\n",
    "df = df[df['CampaignSchema'].notnull()]"
   ]
  },
  {
   "cell_type": "markdown",
   "id": "c070078f-bf95-401a-9109-3a10a72d2e88",
   "metadata": {},
   "source": [
    "#### Step 3: Format dates"
   ]
  },
  {
   "cell_type": "code",
   "execution_count": 22,
   "id": "8194f837-6a30-47a1-8b73-d30196b5edeb",
   "metadata": {},
   "outputs": [],
   "source": [
    "date_columns = ['SessionStart', 'CartAdditionTime', 'OrderConfirmationTime', 'SessionEnd']\n",
    "for col in date_columns:\n",
    "    df[col] = pd.to_datetime(df[col], errors='coerce')"
   ]
  },
  {
   "cell_type": "markdown",
   "id": "0e939501-2cc9-44ee-9f39-107f63e9bb2c",
   "metadata": {},
   "source": [
    "#### Step 4: Standardize category fields"
   ]
  },
  {
   "cell_type": "code",
   "execution_count": 23,
   "id": "d0387868-0964-4cbc-ae59-8eefc41b1646",
   "metadata": {},
   "outputs": [],
   "source": [
    "df['Category'] = df['Category'].astype(str).str.strip().str.title()\n",
    "df['Gender'] = df['Gender'].astype(str).str.strip().str.capitalize()\n",
    "df['CampaignSchema'] = df['CampaignSchema'].astype(str).str.strip().str.title()\n",
    "df['OrderReturn'] = df['OrderReturn'].astype(str).str.strip().str.capitalize()\n",
    "df['Product'] = df['Product'].astype(str).str.strip().str.title()"
   ]
  },
  {
   "cell_type": "code",
   "execution_count": 24,
   "id": "2a272ac0-91d9-4809-9f97-1cbad4bf9b84",
   "metadata": {},
   "outputs": [],
   "source": [
    "# Replace 'Nan' strings with real NaN"
   ]
  },
  {
   "cell_type": "code",
   "execution_count": 25,
   "id": "3cc4710d-aa1b-4578-8b75-a0daa36e749f",
   "metadata": {},
   "outputs": [],
   "source": [
    "df['CampaignSchema'] = df['CampaignSchema'].replace('Nan', pd.NA)\n",
    "df['Category'] = df['Category'].replace('Nan', pd.NA)\n",
    "df['Gender'] = df['Gender'].replace('Nan', pd.NA)\n",
    "df['Product'] = df['Product'].replace('Nan', pd.NA)"
   ]
  },
  {
   "cell_type": "markdown",
   "id": "33b80a9e-075e-4c46-9645-1e31d6ed98fa",
   "metadata": {},
   "source": [
    "#### Step 5: Aggregation (Return Rate Calculation)"
   ]
  },
  {
   "cell_type": "code",
   "execution_count": 26,
   "id": "a95ee9e8-4790-4bc4-a0dd-96687763b42b",
   "metadata": {},
   "outputs": [],
   "source": [
    "def compute_return_rate(group):\n",
    "    return np.mean(group['OrderReturn'] == 'True') * 100"
   ]
  },
  {
   "cell_type": "code",
   "execution_count": 27,
   "id": "b7caa8aa-a271-48c8-963f-61b44541d1a9",
   "metadata": {},
   "outputs": [],
   "source": [
    "# Return rate by Product"
   ]
  },
  {
   "cell_type": "code",
   "execution_count": 28,
   "id": "287fbe6a-8bde-48bc-b5e6-82bc48516cd1",
   "metadata": {},
   "outputs": [],
   "source": [
    "return_rate_product = df.groupby('Product').agg(\n",
    "    ReturnRate_Product=('OrderReturn', lambda x: (x == 'True').mean() * 100)\n",
    ").reset_index()"
   ]
  },
  {
   "cell_type": "code",
   "execution_count": 29,
   "id": "bafc8ff0-a48d-4649-bbac-2a966a4971e2",
   "metadata": {},
   "outputs": [],
   "source": [
    "# Return rate by Category"
   ]
  },
  {
   "cell_type": "code",
   "execution_count": 30,
   "id": "59a881dd-622a-42ae-b668-cd58b9591400",
   "metadata": {},
   "outputs": [],
   "source": [
    "return_rate_category = df.groupby('Category').agg(\n",
    "    ReturnRate_Category=('OrderReturn', lambda x: (x == 'True').mean() * 100)\n",
    ").reset_index()"
   ]
  },
  {
   "cell_type": "code",
   "execution_count": 31,
   "id": "8d187548-5fa2-496b-8d1f-dde85d68cf52",
   "metadata": {},
   "outputs": [],
   "source": [
    "# Merge return rates back to original dataframe"
   ]
  },
  {
   "cell_type": "code",
   "execution_count": 32,
   "id": "a21550a8-869f-41bb-af7c-b43588702534",
   "metadata": {},
   "outputs": [],
   "source": [
    "df = df.merge(return_rate_product, on='Product', how='left')\n",
    "df = df.merge(return_rate_category, on='Category', how='left')"
   ]
  },
  {
   "cell_type": "markdown",
   "id": "45741192-20da-40a1-a979-adf2dd2ff498",
   "metadata": {},
   "source": [
    "#### Step 6: Aggregation in Pandas"
   ]
  },
  {
   "cell_type": "code",
   "execution_count": 33,
   "id": "947ebc02-6261-44d0-b090-5647d9a39aad",
   "metadata": {},
   "outputs": [],
   "source": [
    "# Return Reasons"
   ]
  },
  {
   "cell_type": "code",
   "execution_count": 34,
   "id": "04365813-9c6e-42e3-9fd8-17fb83f89de5",
   "metadata": {},
   "outputs": [
    {
     "name": "stdout",
     "output_type": "stream",
     "text": [
      "\n",
      "--- Top Return Reasons (%) ---\n",
      "ReturnReason\n",
      "Poor Value         23.305085\n",
      "Wrong Item         20.762712\n",
      "Arrived Late       19.915254\n",
      "Arrived Damaged    19.067797\n",
      "Poor Quality       16.949153\n",
      "Name: proportion, dtype: float64\n"
     ]
    }
   ],
   "source": [
    "return_reasons = df[df['OrderReturn'] == 'True']['ReturnReason'].value_counts(normalize=True) * 100\n",
    "print(\"\\n--- Top Return Reasons (%) ---\")\n",
    "print(return_reasons.head(10))"
   ]
  },
  {
   "cell_type": "code",
   "execution_count": 35,
   "id": "1ff6b898-f2a4-4321-a703-93aceebff316",
   "metadata": {},
   "outputs": [],
   "source": [
    "# Return rate by Category"
   ]
  },
  {
   "cell_type": "code",
   "execution_count": 36,
   "id": "e650032c-79f3-4918-ba8f-49fcab94f304",
   "metadata": {},
   "outputs": [
    {
     "name": "stdout",
     "output_type": "stream",
     "text": [
      "\n",
      "--- Return Rate by Category ---\n",
      "          Category  OrderCount  ReturnRate_Percent\n",
      "2          Fashion         334           15.269461\n",
      "0            Books         345           14.492754\n",
      "4             Toys         360           13.888889\n",
      "3  Home Appliances         357           13.725490\n",
      "1      Electronics         304           11.842105\n"
     ]
    }
   ],
   "source": [
    "return_rate_by_category = df.groupby('Category').agg(\n",
    "    OrderCount=('Product', 'count'),\n",
    "    ReturnRate_Percent=('OrderReturn', lambda x: (x == 'True').mean() * 100)\n",
    "    ).reset_index().sort_values(by='ReturnRate_Percent', ascending=False)\n",
    "\n",
    "print(\"\\n--- Return Rate by Category ---\")\n",
    "print(return_rate_by_category.head(10))"
   ]
  },
  {
   "cell_type": "code",
   "execution_count": 37,
   "id": "82351473-e8ae-408e-8c69-4fae1fecabc7",
   "metadata": {},
   "outputs": [],
   "source": [
    "# Return rate by Geography"
   ]
  },
  {
   "cell_type": "code",
   "execution_count": 38,
   "id": "6c0611c2-f04f-4847-92e8-08a7ab8e0223",
   "metadata": {},
   "outputs": [
    {
     "name": "stdout",
     "output_type": "stream",
     "text": [
      "\n",
      "--- Return Rate by Geography (Country, State, City) ---\n",
      "   Country          State         City  TotalOrders  ReturnRate_Percent\n",
      "14   China      Guangdong     Shenzhen           26           26.923077\n",
      "37   Spain      Andalusia       Malaga           36           25.000000\n",
      "16   China       Shandong      Qingdao           43           23.255814\n",
      "29   Italy       Lombardy        Milan           31           22.580645\n",
      "22   India  Uttar Pradesh       Kanpur           41           21.951220\n",
      "12   China      Guangdong     Dongguan           33           21.212121\n",
      "11  Canada         Quebec  Quebec City           29           20.689655\n",
      "25   Italy          Lazio       Latina           30           20.000000\n",
      "42      UK        England   Birmingham           40           20.000000\n",
      "13   China      Guangdong    Guangzhou           41           19.512195\n"
     ]
    }
   ],
   "source": [
    "return_rate_by_geography = df.groupby(['Country', 'State', 'City']).agg(\n",
    "    TotalOrders=('Product', 'count'),\n",
    "    ReturnRate_Percent=('OrderReturn', lambda x: np.mean(x == 'True') * 100)\n",
    ").reset_index().sort_values(by='ReturnRate_Percent', ascending=False)\n",
    "\n",
    "print(\"\\n--- Return Rate by Geography (Country, State, City) ---\")\n",
    "print(return_rate_by_geography.head(10))"
   ]
  },
  {
   "cell_type": "code",
   "execution_count": 39,
   "id": "01ca1de2-9555-48ef-9988-46df649f9b9f",
   "metadata": {},
   "outputs": [],
   "source": [
    "# Return rate by Marketing Channel (CampaignSchema)"
   ]
  },
  {
   "cell_type": "code",
   "execution_count": 40,
   "id": "f219f2d0-d1fe-4ede-9fd3-888802455abe",
   "metadata": {},
   "outputs": [
    {
     "name": "stdout",
     "output_type": "stream",
     "text": [
      "\n",
      "--- Return Rate by Marketing Channel ---\n",
      "      CampaignSchema  TotalOrders  ReturnRate_Percent\n",
      "3         Google-Ads          296           16.216216\n",
      "0  Billboard-Qr Code          278           15.107914\n",
      "2       Facebook-Ads          288           14.236111\n",
      "1            E-Mails          273           13.553114\n",
      "5        Twitter-Ads          265           12.452830\n",
      "4      Instagram-Ads          300           11.666667\n"
     ]
    }
   ],
   "source": [
    "return_rate_by_channel = df.groupby('CampaignSchema').agg(\n",
    "    TotalOrders=('Product', 'count'),\n",
    "    ReturnRate_Percent=('OrderReturn', lambda x: np.mean(x == 'True') * 100)\n",
    ").reset_index().sort_values(by='ReturnRate_Percent', ascending=False)\n",
    "\n",
    "print(\"\\n--- Return Rate by Marketing Channel ---\")\n",
    "print(return_rate_by_channel.head(10))"
   ]
  },
  {
   "cell_type": "code",
   "execution_count": 41,
   "id": "e8b62193-9260-4adc-968a-89f4714adbcb",
   "metadata": {},
   "outputs": [],
   "source": [
    "# Return rate by Category & Product"
   ]
  },
  {
   "cell_type": "code",
   "execution_count": 42,
   "id": "cc364077-3c38-4163-8c90-effa39661668",
   "metadata": {},
   "outputs": [
    {
     "name": "stdout",
     "output_type": "stream",
     "text": [
      "\n",
      "--- Return Rate by Category and Product ---\n",
      "           Category         Product  TotalOrders  ReturnRate_Percent\n",
      "14  Home Appliances   Mixer Grinder           84           22.619048\n",
      "18             Toys       Plush Toy           71           19.718310\n",
      "2             Books           Novel           67           19.402985\n",
      "10          Fashion           Shoes           96           18.750000\n",
      "8           Fashion           Dress           77           16.883117\n",
      "1             Books        Magazine          105           16.190476\n",
      "16             Toys   Action Figure           97           15.463918\n",
      "3             Books        Textbook           86           13.953488\n",
      "12  Home Appliances  Electric Stove           79           13.924051\n",
      "11          Fashion         T-Shirt           72           13.888889\n"
     ]
    }
   ],
   "source": [
    "return_rate_by_category_and_product = df.groupby(['Category', 'Product']).agg(\n",
    "    TotalOrders=('Product', 'count'),\n",
    "    ReturnRate_Percent=('OrderReturn', lambda x: np.mean(x == 'True') * 100)\n",
    ").reset_index().sort_values(by='ReturnRate_Percent', ascending=False)\n",
    "\n",
    "print(\"\\n--- Return Rate by Category and Product ---\")\n",
    "print(return_rate_by_category_and_product.head(10))"
   ]
  },
  {
   "cell_type": "markdown",
   "id": "490bec75-f634-4512-9b88-0af83078efba",
   "metadata": {},
   "source": [
    "#### Step 7: Logistic Regression - Predict Probability of Return"
   ]
  },
  {
   "cell_type": "code",
   "execution_count": 43,
   "id": "bfef7cf0-8617-4604-b941-5bba59b984b2",
   "metadata": {},
   "outputs": [],
   "source": [
    "# Prepare features"
   ]
  },
  {
   "cell_type": "code",
   "execution_count": 44,
   "id": "df8d2c1b-4c61-4e28-9850-2f0132a33be8",
   "metadata": {},
   "outputs": [],
   "source": [
    "features = ['CustomerID','Category', 'Product', 'CampaignSchema', 'Country', 'Gender']\n",
    "target = 'OrderReturn'"
   ]
  },
  {
   "cell_type": "code",
   "execution_count": 45,
   "id": "6631b934-4994-455a-a416-3db787af6e22",
   "metadata": {},
   "outputs": [],
   "source": [
    "# Encode categorical variables"
   ]
  },
  {
   "cell_type": "code",
   "execution_count": 46,
   "id": "c2afdf7b-eda6-4030-9ee4-c47c8bb9d493",
   "metadata": {},
   "outputs": [],
   "source": [
    "df_model = df[features + [target]].dropna()"
   ]
  },
  {
   "cell_type": "code",
   "execution_count": 47,
   "id": "aabf8cba-345a-425c-9ea6-5e24b75a524a",
   "metadata": {},
   "outputs": [],
   "source": [
    "# Encode all categorical columns"
   ]
  },
  {
   "cell_type": "code",
   "execution_count": 48,
   "id": "bcd97368-6c54-4ca4-9b9f-0d2cb4bfd946",
   "metadata": {},
   "outputs": [],
   "source": [
    "for col in features:\n",
    "    le = LabelEncoder()\n",
    "    df_model[col] = le.fit_transform(df_model[col].astype(str))"
   ]
  },
  {
   "cell_type": "code",
   "execution_count": 49,
   "id": "94b37cbb-9ddc-4194-bd02-2ac6fc124074",
   "metadata": {},
   "outputs": [],
   "source": [
    "# Encode target"
   ]
  },
  {
   "cell_type": "code",
   "execution_count": 50,
   "id": "7fc9320a-75ef-4036-b5a7-663b0fbc0af7",
   "metadata": {},
   "outputs": [],
   "source": [
    "df_model[target] = df_model[target].map({'False': 0, 'True': 1})"
   ]
  },
  {
   "cell_type": "code",
   "execution_count": 51,
   "id": "d87f6876-2692-4ae3-a9ee-9fa405e92fb8",
   "metadata": {},
   "outputs": [],
   "source": [
    "# Split data"
   ]
  },
  {
   "cell_type": "code",
   "execution_count": 52,
   "id": "5c1f4a82-042e-4239-a469-3aed489ca146",
   "metadata": {},
   "outputs": [],
   "source": [
    "X = df_model[features]\n",
    "y = df_model[target]"
   ]
  },
  {
   "cell_type": "code",
   "execution_count": 53,
   "id": "4b324fc4-7567-47cc-b9ae-22b0ab0ebbb7",
   "metadata": {},
   "outputs": [],
   "source": [
    "X_train, X_test, y_train, y_test = train_test_split(X, y, test_size=0.3, random_state=42)"
   ]
  },
  {
   "cell_type": "code",
   "execution_count": 54,
   "id": "50fbf671-b549-4ada-9091-2e0a12dee194",
   "metadata": {},
   "outputs": [],
   "source": [
    "# Train logistic regression"
   ]
  },
  {
   "cell_type": "code",
   "execution_count": 55,
   "id": "c0092651-db26-4dfb-925d-a9b0256e552c",
   "metadata": {},
   "outputs": [
    {
     "data": {
      "text/html": [
       "<style>#sk-container-id-1 {\n",
       "  /* Definition of color scheme common for light and dark mode */\n",
       "  --sklearn-color-text: black;\n",
       "  --sklearn-color-line: gray;\n",
       "  /* Definition of color scheme for unfitted estimators */\n",
       "  --sklearn-color-unfitted-level-0: #fff5e6;\n",
       "  --sklearn-color-unfitted-level-1: #f6e4d2;\n",
       "  --sklearn-color-unfitted-level-2: #ffe0b3;\n",
       "  --sklearn-color-unfitted-level-3: chocolate;\n",
       "  /* Definition of color scheme for fitted estimators */\n",
       "  --sklearn-color-fitted-level-0: #f0f8ff;\n",
       "  --sklearn-color-fitted-level-1: #d4ebff;\n",
       "  --sklearn-color-fitted-level-2: #b3dbfd;\n",
       "  --sklearn-color-fitted-level-3: cornflowerblue;\n",
       "\n",
       "  /* Specific color for light theme */\n",
       "  --sklearn-color-text-on-default-background: var(--sg-text-color, var(--theme-code-foreground, var(--jp-content-font-color1, black)));\n",
       "  --sklearn-color-background: var(--sg-background-color, var(--theme-background, var(--jp-layout-color0, white)));\n",
       "  --sklearn-color-border-box: var(--sg-text-color, var(--theme-code-foreground, var(--jp-content-font-color1, black)));\n",
       "  --sklearn-color-icon: #696969;\n",
       "\n",
       "  @media (prefers-color-scheme: dark) {\n",
       "    /* Redefinition of color scheme for dark theme */\n",
       "    --sklearn-color-text-on-default-background: var(--sg-text-color, var(--theme-code-foreground, var(--jp-content-font-color1, white)));\n",
       "    --sklearn-color-background: var(--sg-background-color, var(--theme-background, var(--jp-layout-color0, #111)));\n",
       "    --sklearn-color-border-box: var(--sg-text-color, var(--theme-code-foreground, var(--jp-content-font-color1, white)));\n",
       "    --sklearn-color-icon: #878787;\n",
       "  }\n",
       "}\n",
       "\n",
       "#sk-container-id-1 {\n",
       "  color: var(--sklearn-color-text);\n",
       "}\n",
       "\n",
       "#sk-container-id-1 pre {\n",
       "  padding: 0;\n",
       "}\n",
       "\n",
       "#sk-container-id-1 input.sk-hidden--visually {\n",
       "  border: 0;\n",
       "  clip: rect(1px 1px 1px 1px);\n",
       "  clip: rect(1px, 1px, 1px, 1px);\n",
       "  height: 1px;\n",
       "  margin: -1px;\n",
       "  overflow: hidden;\n",
       "  padding: 0;\n",
       "  position: absolute;\n",
       "  width: 1px;\n",
       "}\n",
       "\n",
       "#sk-container-id-1 div.sk-dashed-wrapped {\n",
       "  border: 1px dashed var(--sklearn-color-line);\n",
       "  margin: 0 0.4em 0.5em 0.4em;\n",
       "  box-sizing: border-box;\n",
       "  padding-bottom: 0.4em;\n",
       "  background-color: var(--sklearn-color-background);\n",
       "}\n",
       "\n",
       "#sk-container-id-1 div.sk-container {\n",
       "  /* jupyter's `normalize.less` sets `[hidden] { display: none; }`\n",
       "     but bootstrap.min.css set `[hidden] { display: none !important; }`\n",
       "     so we also need the `!important` here to be able to override the\n",
       "     default hidden behavior on the sphinx rendered scikit-learn.org.\n",
       "     See: https://github.com/scikit-learn/scikit-learn/issues/21755 */\n",
       "  display: inline-block !important;\n",
       "  position: relative;\n",
       "}\n",
       "\n",
       "#sk-container-id-1 div.sk-text-repr-fallback {\n",
       "  display: none;\n",
       "}\n",
       "\n",
       "div.sk-parallel-item,\n",
       "div.sk-serial,\n",
       "div.sk-item {\n",
       "  /* draw centered vertical line to link estimators */\n",
       "  background-image: linear-gradient(var(--sklearn-color-text-on-default-background), var(--sklearn-color-text-on-default-background));\n",
       "  background-size: 2px 100%;\n",
       "  background-repeat: no-repeat;\n",
       "  background-position: center center;\n",
       "}\n",
       "\n",
       "/* Parallel-specific style estimator block */\n",
       "\n",
       "#sk-container-id-1 div.sk-parallel-item::after {\n",
       "  content: \"\";\n",
       "  width: 100%;\n",
       "  border-bottom: 2px solid var(--sklearn-color-text-on-default-background);\n",
       "  flex-grow: 1;\n",
       "}\n",
       "\n",
       "#sk-container-id-1 div.sk-parallel {\n",
       "  display: flex;\n",
       "  align-items: stretch;\n",
       "  justify-content: center;\n",
       "  background-color: var(--sklearn-color-background);\n",
       "  position: relative;\n",
       "}\n",
       "\n",
       "#sk-container-id-1 div.sk-parallel-item {\n",
       "  display: flex;\n",
       "  flex-direction: column;\n",
       "}\n",
       "\n",
       "#sk-container-id-1 div.sk-parallel-item:first-child::after {\n",
       "  align-self: flex-end;\n",
       "  width: 50%;\n",
       "}\n",
       "\n",
       "#sk-container-id-1 div.sk-parallel-item:last-child::after {\n",
       "  align-self: flex-start;\n",
       "  width: 50%;\n",
       "}\n",
       "\n",
       "#sk-container-id-1 div.sk-parallel-item:only-child::after {\n",
       "  width: 0;\n",
       "}\n",
       "\n",
       "/* Serial-specific style estimator block */\n",
       "\n",
       "#sk-container-id-1 div.sk-serial {\n",
       "  display: flex;\n",
       "  flex-direction: column;\n",
       "  align-items: center;\n",
       "  background-color: var(--sklearn-color-background);\n",
       "  padding-right: 1em;\n",
       "  padding-left: 1em;\n",
       "}\n",
       "\n",
       "\n",
       "/* Toggleable style: style used for estimator/Pipeline/ColumnTransformer box that is\n",
       "clickable and can be expanded/collapsed.\n",
       "- Pipeline and ColumnTransformer use this feature and define the default style\n",
       "- Estimators will overwrite some part of the style using the `sk-estimator` class\n",
       "*/\n",
       "\n",
       "/* Pipeline and ColumnTransformer style (default) */\n",
       "\n",
       "#sk-container-id-1 div.sk-toggleable {\n",
       "  /* Default theme specific background. It is overwritten whether we have a\n",
       "  specific estimator or a Pipeline/ColumnTransformer */\n",
       "  background-color: var(--sklearn-color-background);\n",
       "}\n",
       "\n",
       "/* Toggleable label */\n",
       "#sk-container-id-1 label.sk-toggleable__label {\n",
       "  cursor: pointer;\n",
       "  display: block;\n",
       "  width: 100%;\n",
       "  margin-bottom: 0;\n",
       "  padding: 0.5em;\n",
       "  box-sizing: border-box;\n",
       "  text-align: center;\n",
       "}\n",
       "\n",
       "#sk-container-id-1 label.sk-toggleable__label-arrow:before {\n",
       "  /* Arrow on the left of the label */\n",
       "  content: \"▸\";\n",
       "  float: left;\n",
       "  margin-right: 0.25em;\n",
       "  color: var(--sklearn-color-icon);\n",
       "}\n",
       "\n",
       "#sk-container-id-1 label.sk-toggleable__label-arrow:hover:before {\n",
       "  color: var(--sklearn-color-text);\n",
       "}\n",
       "\n",
       "/* Toggleable content - dropdown */\n",
       "\n",
       "#sk-container-id-1 div.sk-toggleable__content {\n",
       "  max-height: 0;\n",
       "  max-width: 0;\n",
       "  overflow: hidden;\n",
       "  text-align: left;\n",
       "  /* unfitted */\n",
       "  background-color: var(--sklearn-color-unfitted-level-0);\n",
       "}\n",
       "\n",
       "#sk-container-id-1 div.sk-toggleable__content.fitted {\n",
       "  /* fitted */\n",
       "  background-color: var(--sklearn-color-fitted-level-0);\n",
       "}\n",
       "\n",
       "#sk-container-id-1 div.sk-toggleable__content pre {\n",
       "  margin: 0.2em;\n",
       "  border-radius: 0.25em;\n",
       "  color: var(--sklearn-color-text);\n",
       "  /* unfitted */\n",
       "  background-color: var(--sklearn-color-unfitted-level-0);\n",
       "}\n",
       "\n",
       "#sk-container-id-1 div.sk-toggleable__content.fitted pre {\n",
       "  /* unfitted */\n",
       "  background-color: var(--sklearn-color-fitted-level-0);\n",
       "}\n",
       "\n",
       "#sk-container-id-1 input.sk-toggleable__control:checked~div.sk-toggleable__content {\n",
       "  /* Expand drop-down */\n",
       "  max-height: 200px;\n",
       "  max-width: 100%;\n",
       "  overflow: auto;\n",
       "}\n",
       "\n",
       "#sk-container-id-1 input.sk-toggleable__control:checked~label.sk-toggleable__label-arrow:before {\n",
       "  content: \"▾\";\n",
       "}\n",
       "\n",
       "/* Pipeline/ColumnTransformer-specific style */\n",
       "\n",
       "#sk-container-id-1 div.sk-label input.sk-toggleable__control:checked~label.sk-toggleable__label {\n",
       "  color: var(--sklearn-color-text);\n",
       "  background-color: var(--sklearn-color-unfitted-level-2);\n",
       "}\n",
       "\n",
       "#sk-container-id-1 div.sk-label.fitted input.sk-toggleable__control:checked~label.sk-toggleable__label {\n",
       "  background-color: var(--sklearn-color-fitted-level-2);\n",
       "}\n",
       "\n",
       "/* Estimator-specific style */\n",
       "\n",
       "/* Colorize estimator box */\n",
       "#sk-container-id-1 div.sk-estimator input.sk-toggleable__control:checked~label.sk-toggleable__label {\n",
       "  /* unfitted */\n",
       "  background-color: var(--sklearn-color-unfitted-level-2);\n",
       "}\n",
       "\n",
       "#sk-container-id-1 div.sk-estimator.fitted input.sk-toggleable__control:checked~label.sk-toggleable__label {\n",
       "  /* fitted */\n",
       "  background-color: var(--sklearn-color-fitted-level-2);\n",
       "}\n",
       "\n",
       "#sk-container-id-1 div.sk-label label.sk-toggleable__label,\n",
       "#sk-container-id-1 div.sk-label label {\n",
       "  /* The background is the default theme color */\n",
       "  color: var(--sklearn-color-text-on-default-background);\n",
       "}\n",
       "\n",
       "/* On hover, darken the color of the background */\n",
       "#sk-container-id-1 div.sk-label:hover label.sk-toggleable__label {\n",
       "  color: var(--sklearn-color-text);\n",
       "  background-color: var(--sklearn-color-unfitted-level-2);\n",
       "}\n",
       "\n",
       "/* Label box, darken color on hover, fitted */\n",
       "#sk-container-id-1 div.sk-label.fitted:hover label.sk-toggleable__label.fitted {\n",
       "  color: var(--sklearn-color-text);\n",
       "  background-color: var(--sklearn-color-fitted-level-2);\n",
       "}\n",
       "\n",
       "/* Estimator label */\n",
       "\n",
       "#sk-container-id-1 div.sk-label label {\n",
       "  font-family: monospace;\n",
       "  font-weight: bold;\n",
       "  display: inline-block;\n",
       "  line-height: 1.2em;\n",
       "}\n",
       "\n",
       "#sk-container-id-1 div.sk-label-container {\n",
       "  text-align: center;\n",
       "}\n",
       "\n",
       "/* Estimator-specific */\n",
       "#sk-container-id-1 div.sk-estimator {\n",
       "  font-family: monospace;\n",
       "  border: 1px dotted var(--sklearn-color-border-box);\n",
       "  border-radius: 0.25em;\n",
       "  box-sizing: border-box;\n",
       "  margin-bottom: 0.5em;\n",
       "  /* unfitted */\n",
       "  background-color: var(--sklearn-color-unfitted-level-0);\n",
       "}\n",
       "\n",
       "#sk-container-id-1 div.sk-estimator.fitted {\n",
       "  /* fitted */\n",
       "  background-color: var(--sklearn-color-fitted-level-0);\n",
       "}\n",
       "\n",
       "/* on hover */\n",
       "#sk-container-id-1 div.sk-estimator:hover {\n",
       "  /* unfitted */\n",
       "  background-color: var(--sklearn-color-unfitted-level-2);\n",
       "}\n",
       "\n",
       "#sk-container-id-1 div.sk-estimator.fitted:hover {\n",
       "  /* fitted */\n",
       "  background-color: var(--sklearn-color-fitted-level-2);\n",
       "}\n",
       "\n",
       "/* Specification for estimator info (e.g. \"i\" and \"?\") */\n",
       "\n",
       "/* Common style for \"i\" and \"?\" */\n",
       "\n",
       ".sk-estimator-doc-link,\n",
       "a:link.sk-estimator-doc-link,\n",
       "a:visited.sk-estimator-doc-link {\n",
       "  float: right;\n",
       "  font-size: smaller;\n",
       "  line-height: 1em;\n",
       "  font-family: monospace;\n",
       "  background-color: var(--sklearn-color-background);\n",
       "  border-radius: 1em;\n",
       "  height: 1em;\n",
       "  width: 1em;\n",
       "  text-decoration: none !important;\n",
       "  margin-left: 1ex;\n",
       "  /* unfitted */\n",
       "  border: var(--sklearn-color-unfitted-level-1) 1pt solid;\n",
       "  color: var(--sklearn-color-unfitted-level-1);\n",
       "}\n",
       "\n",
       ".sk-estimator-doc-link.fitted,\n",
       "a:link.sk-estimator-doc-link.fitted,\n",
       "a:visited.sk-estimator-doc-link.fitted {\n",
       "  /* fitted */\n",
       "  border: var(--sklearn-color-fitted-level-1) 1pt solid;\n",
       "  color: var(--sklearn-color-fitted-level-1);\n",
       "}\n",
       "\n",
       "/* On hover */\n",
       "div.sk-estimator:hover .sk-estimator-doc-link:hover,\n",
       ".sk-estimator-doc-link:hover,\n",
       "div.sk-label-container:hover .sk-estimator-doc-link:hover,\n",
       ".sk-estimator-doc-link:hover {\n",
       "  /* unfitted */\n",
       "  background-color: var(--sklearn-color-unfitted-level-3);\n",
       "  color: var(--sklearn-color-background);\n",
       "  text-decoration: none;\n",
       "}\n",
       "\n",
       "div.sk-estimator.fitted:hover .sk-estimator-doc-link.fitted:hover,\n",
       ".sk-estimator-doc-link.fitted:hover,\n",
       "div.sk-label-container:hover .sk-estimator-doc-link.fitted:hover,\n",
       ".sk-estimator-doc-link.fitted:hover {\n",
       "  /* fitted */\n",
       "  background-color: var(--sklearn-color-fitted-level-3);\n",
       "  color: var(--sklearn-color-background);\n",
       "  text-decoration: none;\n",
       "}\n",
       "\n",
       "/* Span, style for the box shown on hovering the info icon */\n",
       ".sk-estimator-doc-link span {\n",
       "  display: none;\n",
       "  z-index: 9999;\n",
       "  position: relative;\n",
       "  font-weight: normal;\n",
       "  right: .2ex;\n",
       "  padding: .5ex;\n",
       "  margin: .5ex;\n",
       "  width: min-content;\n",
       "  min-width: 20ex;\n",
       "  max-width: 50ex;\n",
       "  color: var(--sklearn-color-text);\n",
       "  box-shadow: 2pt 2pt 4pt #999;\n",
       "  /* unfitted */\n",
       "  background: var(--sklearn-color-unfitted-level-0);\n",
       "  border: .5pt solid var(--sklearn-color-unfitted-level-3);\n",
       "}\n",
       "\n",
       ".sk-estimator-doc-link.fitted span {\n",
       "  /* fitted */\n",
       "  background: var(--sklearn-color-fitted-level-0);\n",
       "  border: var(--sklearn-color-fitted-level-3);\n",
       "}\n",
       "\n",
       ".sk-estimator-doc-link:hover span {\n",
       "  display: block;\n",
       "}\n",
       "\n",
       "/* \"?\"-specific style due to the `<a>` HTML tag */\n",
       "\n",
       "#sk-container-id-1 a.estimator_doc_link {\n",
       "  float: right;\n",
       "  font-size: 1rem;\n",
       "  line-height: 1em;\n",
       "  font-family: monospace;\n",
       "  background-color: var(--sklearn-color-background);\n",
       "  border-radius: 1rem;\n",
       "  height: 1rem;\n",
       "  width: 1rem;\n",
       "  text-decoration: none;\n",
       "  /* unfitted */\n",
       "  color: var(--sklearn-color-unfitted-level-1);\n",
       "  border: var(--sklearn-color-unfitted-level-1) 1pt solid;\n",
       "}\n",
       "\n",
       "#sk-container-id-1 a.estimator_doc_link.fitted {\n",
       "  /* fitted */\n",
       "  border: var(--sklearn-color-fitted-level-1) 1pt solid;\n",
       "  color: var(--sklearn-color-fitted-level-1);\n",
       "}\n",
       "\n",
       "/* On hover */\n",
       "#sk-container-id-1 a.estimator_doc_link:hover {\n",
       "  /* unfitted */\n",
       "  background-color: var(--sklearn-color-unfitted-level-3);\n",
       "  color: var(--sklearn-color-background);\n",
       "  text-decoration: none;\n",
       "}\n",
       "\n",
       "#sk-container-id-1 a.estimator_doc_link.fitted:hover {\n",
       "  /* fitted */\n",
       "  background-color: var(--sklearn-color-fitted-level-3);\n",
       "}\n",
       "</style><div id=\"sk-container-id-1\" class=\"sk-top-container\"><div class=\"sk-text-repr-fallback\"><pre>LogisticRegression(max_iter=1000)</pre><b>In a Jupyter environment, please rerun this cell to show the HTML representation or trust the notebook. <br />On GitHub, the HTML representation is unable to render, please try loading this page with nbviewer.org.</b></div><div class=\"sk-container\" hidden><div class=\"sk-item\"><div class=\"sk-estimator fitted sk-toggleable\"><input class=\"sk-toggleable__control sk-hidden--visually\" id=\"sk-estimator-id-1\" type=\"checkbox\" checked><label for=\"sk-estimator-id-1\" class=\"sk-toggleable__label fitted sk-toggleable__label-arrow fitted\">&nbsp;&nbsp;LogisticRegression<a class=\"sk-estimator-doc-link fitted\" rel=\"noreferrer\" target=\"_blank\" href=\"https://scikit-learn.org/1.5/modules/generated/sklearn.linear_model.LogisticRegression.html\">?<span>Documentation for LogisticRegression</span></a><span class=\"sk-estimator-doc-link fitted\">i<span>Fitted</span></span></label><div class=\"sk-toggleable__content fitted\"><pre>LogisticRegression(max_iter=1000)</pre></div> </div></div></div></div>"
      ],
      "text/plain": [
       "LogisticRegression(max_iter=1000)"
      ]
     },
     "execution_count": 55,
     "metadata": {},
     "output_type": "execute_result"
    }
   ],
   "source": [
    "model = LogisticRegression(max_iter=1000)\n",
    "model.fit(X_train, y_train)"
   ]
  },
  {
   "cell_type": "code",
   "execution_count": 56,
   "id": "4617d81d-b280-4dc5-ab58-6447646bd8da",
   "metadata": {},
   "outputs": [],
   "source": [
    "# Predict"
   ]
  },
  {
   "cell_type": "code",
   "execution_count": 57,
   "id": "abebf4a9-8f64-4e0b-9cf4-3b9616e6be59",
   "metadata": {},
   "outputs": [],
   "source": [
    "y_pred = model.predict(X_test)\n",
    "y_prob = model.predict_proba(X_test)[:,1]"
   ]
  },
  {
   "cell_type": "code",
   "execution_count": 58,
   "id": "7d4d655e-eaed-4278-8e83-ab8cc27c8f06",
   "metadata": {},
   "outputs": [],
   "source": [
    "# Evaluate"
   ]
  },
  {
   "cell_type": "code",
   "execution_count": 59,
   "id": "c852a94a-3a78-4c98-9253-243d7f7f107a",
   "metadata": {},
   "outputs": [
    {
     "name": "stdout",
     "output_type": "stream",
     "text": [
      "\n",
      "--- Classification Report ---\n",
      "              precision    recall  f1-score   support\n",
      "\n",
      "           0       0.85      1.00      0.92       432\n",
      "           1       0.00      0.00      0.00        78\n",
      "\n",
      "    accuracy                           0.85       510\n",
      "   macro avg       0.42      0.50      0.46       510\n",
      "weighted avg       0.72      0.85      0.78       510\n",
      "\n"
     ]
    }
   ],
   "source": [
    "print(\"\\n--- Classification Report ---\")\n",
    "print(classification_report(y_test, y_pred, zero_division=0))"
   ]
  },
  {
   "cell_type": "code",
   "execution_count": 60,
   "id": "7a20d541-1447-44ad-b96f-5a46cb6babbf",
   "metadata": {},
   "outputs": [
    {
     "name": "stdout",
     "output_type": "stream",
     "text": [
      "\n",
      "--- Confusion Matrix ---\n",
      "[[432   0]\n",
      " [ 78   0]]\n"
     ]
    }
   ],
   "source": [
    "print(\"\\n--- Confusion Matrix ---\")\n",
    "print(confusion_matrix(y_test, y_pred))"
   ]
  },
  {
   "cell_type": "code",
   "execution_count": 61,
   "id": "c3388084-1333-4f07-9083-dc890e3a2e9e",
   "metadata": {},
   "outputs": [],
   "source": [
    "# Probability output"
   ]
  },
  {
   "cell_type": "code",
   "execution_count": 62,
   "id": "4f96f8cd-41ac-4067-b833-25906b58f677",
   "metadata": {},
   "outputs": [],
   "source": [
    "output_prob = X_test.copy()\n",
    "output_prob['ActualReturn'] = y_test\n",
    "output_prob['PredictedReturnProb(%)'] = y_prob * 100"
   ]
  },
  {
   "cell_type": "code",
   "execution_count": 63,
   "id": "c3a41fb5-23e6-4587-8e9d-7c0f320b6c51",
   "metadata": {},
   "outputs": [
    {
     "name": "stdout",
     "output_type": "stream",
     "text": [
      "\n",
      "--- Predicted Probabilities ---\n",
      "      CustomerID  Category  Product  CampaignSchema  Country  Gender  \\\n",
      "1492         635         2       14               3        2       0   \n",
      "115          120         0        1               5        1       0   \n",
      "135          143         0       11               0        6       0   \n",
      "352          383         0       18               5        2       0   \n",
      "1302        1016         3       19               4        1       1   \n",
      "1331         168         2        3               0        5       1   \n",
      "1392         520         2       14               2        4       0   \n",
      "332          360         2       14               2        7       0   \n",
      "1226         462         2        6               2        2       1   \n",
      "316          343         0       18               3        4       1   \n",
      "\n",
      "      ActualReturn  PredictedReturnProb(%)  \n",
      "1492             1               10.838307  \n",
      "115              0               13.357416  \n",
      "135              0               16.686484  \n",
      "352              0               10.042342  \n",
      "1302             0                9.476132  \n",
      "1331             0               20.693379  \n",
      "1392             0               12.173793  \n",
      "332              1               12.924527  \n",
      "1226             0               15.748716  \n",
      "316              1               13.629788  \n"
     ]
    }
   ],
   "source": [
    "print(\"\\n--- Predicted Probabilities ---\")\n",
    "print(output_prob.head(10))"
   ]
  },
  {
   "cell_type": "code",
   "execution_count": 64,
   "id": "d515b0a1-1a57-4b7f-b894-2fc28171b160",
   "metadata": {},
   "outputs": [],
   "source": [
    "# Save to CSV"
   ]
  },
  {
   "cell_type": "code",
   "execution_count": 65,
   "id": "0b9e50fb-6c42-4373-ac26-3037488b49a0",
   "metadata": {},
   "outputs": [],
   "source": [
    "output_prob.to_csv(\"Predicted_Return_Probabilities.csv\", index=False)"
   ]
  },
  {
   "cell_type": "markdown",
   "id": "98a98c64-c6ec-4cee-aa88-058ec5259bbd",
   "metadata": {},
   "source": [
    "#### Step 8: High-Risk Product Export"
   ]
  },
  {
   "cell_type": "code",
   "execution_count": 66,
   "id": "f5ba286b-35bf-4a3a-9265-4852fc8af9c9",
   "metadata": {},
   "outputs": [
    {
     "name": "stdout",
     "output_type": "stream",
     "text": [
      "           Product  ReturnRate_Product\n",
      "0    Action Figure           15.463918\n",
      "1    Autobiography            9.195402\n",
      "2       Board Game           13.684211\n",
      "3            Dress           16.883117\n",
      "4   Electric Stove           13.924051\n",
      "5       Hair Dryer           13.580247\n",
      "6            Jeans           11.235955\n",
      "7           Laptop           13.235294\n",
      "8         Magazine           16.190476\n",
      "9   Microwave Oven           11.764706\n",
      "10   Mixer Grinder           22.619048\n",
      "11           Novel           19.402985\n",
      "12       Plush Toy           19.718310\n",
      "13          Puzzle            8.247423\n",
      "14           Shoes           18.750000\n",
      "15         T-Shirt           13.888889\n",
      "16       Table Fan           12.676056\n",
      "17      Television            8.333333\n",
      "18        Textbook           13.953488\n",
      "19         Toaster            7.608696\n"
     ]
    }
   ],
   "source": [
    "return_rate_product = df.groupby('Product').agg(\n",
    "    ReturnRate_Product=('OrderReturn', lambda x: (x == 'True').mean() * 100)\n",
    ").reset_index()\n",
    "\n",
    "print(return_rate_product)"
   ]
  },
  {
   "cell_type": "code",
   "execution_count": 67,
   "id": "618a9817-b4b0-4814-b6e6-267fe422e531",
   "metadata": {},
   "outputs": [
    {
     "name": "stdout",
     "output_type": "stream",
     "text": [
      "           Product  ReturnRate_Product\n",
      "10   Mixer Grinder           22.619048\n",
      "12       Plush Toy           19.718310\n",
      "11           Novel           19.402985\n",
      "14           Shoes           18.750000\n",
      "3            Dress           16.883117\n",
      "8         Magazine           16.190476\n",
      "0    Action Figure           15.463918\n",
      "18        Textbook           13.953488\n",
      "4   Electric Stove           13.924051\n",
      "15         T-Shirt           13.888889\n"
     ]
    }
   ],
   "source": [
    "top10_products = return_rate_product.sort_values(by='ReturnRate_Product', ascending=False).head(10)\n",
    "print(top10_products)"
   ]
  },
  {
   "cell_type": "code",
   "execution_count": 68,
   "id": "eab7f627-7f2f-4828-9acb-28dae6cccf0c",
   "metadata": {},
   "outputs": [],
   "source": [
    "# Define threshold for high-risk products"
   ]
  },
  {
   "cell_type": "code",
   "execution_count": 69,
   "id": "b80547e9-6def-41f9-ae32-9893b3adb3d8",
   "metadata": {},
   "outputs": [],
   "source": [
    "high_risk_threshold = 10"
   ]
  },
  {
   "cell_type": "code",
   "execution_count": 70,
   "id": "fc3b8255-f64f-474c-b457-57d0691c080f",
   "metadata": {},
   "outputs": [],
   "source": [
    "# Filter products"
   ]
  },
  {
   "cell_type": "code",
   "execution_count": 71,
   "id": "8000a17c-5d8b-42f0-b1d1-7d63a3156488",
   "metadata": {},
   "outputs": [],
   "source": [
    "high_risk_products = return_rate_product[return_rate_product['ReturnRate_Product'] > high_risk_threshold]"
   ]
  },
  {
   "cell_type": "code",
   "execution_count": 72,
   "id": "27dff561-0612-4b21-bc61-c24967344de6",
   "metadata": {},
   "outputs": [],
   "source": [
    "# Add total orders for each product"
   ]
  },
  {
   "cell_type": "code",
   "execution_count": 73,
   "id": "79b60736-903a-4c83-a7b5-5b8d22a0d57b",
   "metadata": {},
   "outputs": [],
   "source": [
    "product_order_counts = df.groupby('Product').size().reset_index(name='TotalOrders')\n",
    "high_risk_products = high_risk_products.merge(product_order_counts, on='Product', how='left')"
   ]
  },
  {
   "cell_type": "code",
   "execution_count": 74,
   "id": "7453397f-0d4a-466d-bea8-3e51b0b0c2cb",
   "metadata": {},
   "outputs": [],
   "source": [
    "high_risk_products = high_risk_products.sort_values(by='ReturnRate_Product', ascending=False)"
   ]
  },
  {
   "cell_type": "code",
   "execution_count": 75,
   "id": "11a222b7-cb9f-4e1b-a23b-892f66cd98f1",
   "metadata": {},
   "outputs": [],
   "source": [
    "# Save to CSV"
   ]
  },
  {
   "cell_type": "code",
   "execution_count": 76,
   "id": "21f4bf2a-240f-491a-bbdb-5697ddf90842",
   "metadata": {},
   "outputs": [],
   "source": [
    "high_risk_products.to_csv(\"High_Risk_Products.csv\", index=False)"
   ]
  },
  {
   "cell_type": "code",
   "execution_count": 77,
   "id": "8bc53e6f-ebdd-4118-92b5-34701d109eab",
   "metadata": {},
   "outputs": [
    {
     "name": "stdout",
     "output_type": "stream",
     "text": [
      "\n",
      "--- High-risk products exported to High_Risk_Products.csv ---\n",
      "           Product  ReturnRate_Product  TotalOrders\n",
      "9    Mixer Grinder           22.619048           84\n",
      "11       Plush Toy           19.718310           71\n",
      "10           Novel           19.402985           67\n",
      "12           Shoes           18.750000           96\n",
      "2            Dress           16.883117           77\n",
      "7         Magazine           16.190476          105\n",
      "0    Action Figure           15.463918           97\n",
      "15        Textbook           13.953488           86\n",
      "3   Electric Stove           13.924051           79\n",
      "13         T-Shirt           13.888889           72\n",
      "1       Board Game           13.684211           95\n",
      "4       Hair Dryer           13.580247           81\n",
      "6           Laptop           13.235294           68\n",
      "14       Table Fan           12.676056           71\n",
      "8   Microwave Oven           11.764706          102\n",
      "5            Jeans           11.235955           89\n"
     ]
    }
   ],
   "source": [
    "print(\"\\n--- High-risk products exported to High_Risk_Products.csv ---\")\n",
    "print(high_risk_products)"
   ]
  },
  {
   "cell_type": "markdown",
   "id": "987d7387-7698-4520-a04d-f61ad5089fea",
   "metadata": {},
   "source": [
    "#### Step 9: Exploratory Data Analysis & Visualization"
   ]
  },
  {
   "cell_type": "code",
   "execution_count": 79,
   "id": "92ce4247-b55b-4d13-aa5f-7173008cbfd9",
   "metadata": {},
   "outputs": [],
   "source": [
    "# Bar Chart - Return % by Category"
   ]
  },
  {
   "cell_type": "code",
   "execution_count": 80,
   "id": "90779e82-b525-43e5-a392-23755912f9e5",
   "metadata": {},
   "outputs": [
    {
     "data": {
      "image/png": "[encoded data removed]",
      "text/plain": [
       "<Figure size 1200x600 with 1 Axes>"
      ]
     },
     "metadata": {},
     "output_type": "display_data"
    }
   ],
   "source": [
    "plt.figure(figsize=(12,6))\n",
    "sns.barplot(x='Category', y='ReturnRate_Category', data=return_rate_category.sort_values(by='ReturnRate_Category', ascending=False))\n",
    "plt.xticks(rotation=45)\n",
    "plt.title(\"Return % by Product Category\")\n",
    "plt.tight_layout()\n",
    "plt.show()"
   ]
  },
  {
   "cell_type": "code",
   "execution_count": 81,
   "id": "018a7afb-5573-4f6e-b1b5-2dc0b61fab59",
   "metadata": {},
   "outputs": [],
   "source": [
    "# Heatmap - Return rate by Geography"
   ]
  },
  {
   "cell_type": "code",
   "execution_count": 82,
   "id": "84773aff-88c9-416b-a182-3e4e3a0c0917",
   "metadata": {},
   "outputs": [
    {
     "data": {
      "image/png": "[encoded data removed]",
      "text/plain": [
       "<Figure size 1200x800 with 2 Axes>"
      ]
     },
     "metadata": {},
     "output_type": "display_data"
    }
   ],
   "source": [
    "geo_return = return_rate_by_geography.pivot_table(index='Country', columns='State', values='ReturnRate_Percent', aggfunc='mean')\n",
    "plt.figure(figsize=(12,8))\n",
    "sns.heatmap(geo_return, annot=True, fmt=\".1f\", cmap=\"coolwarm\")\n",
    "plt.title(\"Heatmap of Return Rates by Geography\")\n",
    "plt.tight_layout()\n",
    "plt.show()"
   ]
  },
  {
   "cell_type": "code",
   "execution_count": 83,
   "id": "b680ac8e-7970-45db-a987-36c38243532a",
   "metadata": {},
   "outputs": [],
   "source": [
    "# Return Rate by Marketing Channel"
   ]
  },
  {
   "cell_type": "code",
   "execution_count": 84,
   "id": "7809998d-7889-4a9a-a4c9-2046e1354fea",
   "metadata": {},
   "outputs": [],
   "source": [
    "return_rate_channel = df.groupby('CampaignSchema').agg(\n",
    "    ReturnRate_Percent=('OrderReturn', lambda x: (x == 'True').mean() * 100),\n",
    "    TotalOrders=('Product', 'count')\n",
    ").reset_index()"
   ]
  },
  {
   "cell_type": "code",
   "execution_count": 85,
   "id": "3d6847e3-2b23-4189-8b8a-9af06ff25ff2",
   "metadata": {},
   "outputs": [],
   "source": [
    "# Bar Chart - Return % by Marketing Channel"
   ]
  },
  {
   "cell_type": "code",
   "execution_count": 86,
   "id": "809d16fe-f045-4ca7-a519-db263a125992",
   "metadata": {},
   "outputs": [
    {
     "data": {
      "image/png": "[encoded data removed]",
      "text/plain": [
       "<Figure size 1200x600 with 1 Axes>"
      ]
     },
     "metadata": {},
     "output_type": "display_data"
    }
   ],
   "source": [
    "plt.figure(figsize=(12,6))\n",
    "sns.barplot(x='CampaignSchema', y='ReturnRate_Percent', data=return_rate_channel.sort_values(by='ReturnRate_Percent', ascending=False))\n",
    "plt.xticks(rotation=45)\n",
    "plt.title(\"Return % by Marketing Channel\")\n",
    "plt.tight_layout()\n",
    "plt.show()"
   ]
  },
  {
   "cell_type": "code",
   "execution_count": 87,
   "id": "6a09b170-aae1-402e-8fdd-160ebc8df6f3",
   "metadata": {},
   "outputs": [],
   "source": [
    "# Bar Chart - Top Return Reasons"
   ]
  },
  {
   "cell_type": "code",
   "execution_count": 88,
   "id": "fa563556-f742-4204-b94a-74f11ed29fb6",
   "metadata": {},
   "outputs": [
    {
     "data": {
      "image/png": "[encoded data removed]",
      "text/plain": [
       "<Figure size 1000x600 with 1 Axes>"
      ]
     },
     "metadata": {},
     "output_type": "display_data"
    }
   ],
   "source": [
    "plt.figure(figsize=(10,6))\n",
    "sns.barplot(x=return_reasons.head(10).index, y=return_reasons.head(10).values)\n",
    "plt.xticks(rotation=45)\n",
    "plt.ylabel(\"% of Returns\")\n",
    "plt.title(\"Top Return Reasons\")\n",
    "plt.tight_layout()\n",
    "plt.show()"
   ]
  },
  {
   "cell_type": "code",
   "execution_count": 89,
   "id": "50a92f6c-4ca1-455d-92f6-4024f7087bbd",
   "metadata": {},
   "outputs": [],
   "source": [
    "# Box Plot - Return % by Product"
   ]
  },
  {
   "cell_type": "code",
   "execution_count": 90,
   "id": "13aaf48c-d846-4469-ba72-fbaae450e297",
   "metadata": {},
   "outputs": [
    {
     "data": {
      "image/png": "[encoded data removed]",
      "text/plain": [
       "<Figure size 1400x600 with 1 Axes>"
      ]
     },
     "metadata": {},
     "output_type": "display_data"
    }
   ],
   "source": [
    "plt.figure(figsize=(14,6))\n",
    "sns.boxplot(x='Product', y='ReturnRate_Product', data=df)\n",
    "plt.xticks(rotation=90)\n",
    "plt.title(\"Box Plot of Return % by Product\")\n",
    "plt.tight_layout()\n",
    "plt.show()"
   ]
  },
  {
   "cell_type": "code",
   "execution_count": 91,
   "id": "d2e487bb-3e2b-41fa-99d1-2a9089cc3554",
   "metadata": {},
   "outputs": [
    {
     "name": "stdout",
     "output_type": "stream",
     "text": [
      "\n",
      "EDA complete. Visual insights generated!\n"
     ]
    }
   ],
   "source": [
    "print(\"\\nEDA complete. Visual insights generated!\")"
   ]
  },
  {
   "cell_type": "markdown",
   "id": "a935b324-668a-48e2-ae46-dc2dd4473992",
   "metadata": {},
   "source": [
    "#### Step 10: Export cleaned dataset"
   ]
  },
  {
   "cell_type": "code",
   "execution_count": 92,
   "id": "6cfa4e54-278a-4bda-8efa-6ceddcdfc3b0",
   "metadata": {},
   "outputs": [],
   "source": [
    "df.to_csv(\"Cleaned_Customer360Insights.csv\", index=False)\n",
    "return_rate_by_category_and_product.to_csv(\"ReturnRate_By_category_and_Product.csv\", index=False)\n",
    "return_rate_by_category.to_csv(\"ReturnRate_By_Category.csv\", index=False)\n",
    "return_rate_by_geography.to_csv(\"ReturnRate_By_Geography.csv\", index=False)\n",
    "return_rate_by_channel.to_csv(\"ReturnRate_By_Channel.csv\", index=False)\n",
    "return_reasons.to_csv(\"ReturnReasons.csv\", index=False)\n",
    "return_rate_product.to_csv(\"ReturnRate_By_Product.csv\", index=False)"
   ]
  },
  {
   "cell_type": "code",
   "execution_count": 95,
   "id": "02fe5c67-e957-4293-97d0-38731fc4a3e6",
   "metadata": {},
   "outputs": [
    {
     "name": "stdout",
     "output_type": "stream",
     "text": [
      "\n",
      "Data extraction from CSV, filtering, aggregation, EDA, logistic regression complete. Files generated: \n",
      "- Cleaned_Customer360Insights.csv\n",
      "- ReturnRate_By_category_and_Product.csv\n",
      "- ReturnRate_By_Category.csv\n",
      "- ReturnRate_By_Geography.csv\n",
      "- ReturnRate_By_Channel.csv\n",
      "- ReturnReasons.csv\n",
      "- ReturnRate_By_Product.csv\n",
      "- High_Risk_Products.csv\n",
      "- Predicted_Return_Probabilities.csv\n"
     ]
    }
   ],
   "source": [
    "print(\"\\nData extraction from CSV, filtering, aggregation, EDA, logistic regression complete. Files generated: \\n- Cleaned_Customer360Insights.csv\\n- ReturnRate_By_category_and_Product.csv\\n- ReturnRate_By_Category.csv\\n- ReturnRate_By_Geography.csv\\n- ReturnRate_By_Channel.csv\\n- ReturnReasons.csv\\n- ReturnRate_By_Product.csv\\n- High_Risk_Products.csv\\n- Predicted_Return_Probabilities.csv\")"
   ]
  },
  {
   "cell_type": "code",
   "execution_count": null,
   "id": "b4ba4a15-f220-480d-8e12-c729db33efc2",
   "metadata": {},
   "outputs": [],
   "source": []
  }
 ],
 "metadata": {
  "kernelspec": {
   "display_name": "Python 3 (ipykernel)",
   "language": "python",
   "name": "python3"
  },
  "language_info": {
   "codemirror_mode": {
    "name": "ipython",
    "version": 3
   },
   "file_extension": ".py",
   "mimetype": "text/x-python",
   "name": "python",
   "nbconvert_exporter": "python",
   "pygments_lexer": "ipython3",
   "version": "3.12.7"
  }
 },
 "nbformat": 4,
 "nbformat_minor": 5
}
